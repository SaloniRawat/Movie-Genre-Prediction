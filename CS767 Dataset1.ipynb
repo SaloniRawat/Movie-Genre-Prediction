{
 "cells": [
  {
   "cell_type": "code",
   "execution_count": 1,
   "metadata": {},
   "outputs": [
    {
     "name": "stderr",
     "output_type": "stream",
     "text": [
      "[nltk_data] Downloading package stopwords to\n",
      "[nltk_data]     C:\\Users\\aksha\\AppData\\Roaming\\nltk_data...\n",
      "[nltk_data]   Package stopwords is already up-to-date!\n"
     ]
    }
   ],
   "source": [
    "import pandas as pd\n",
    "import sqlite3\n",
    "import csv\n",
    "import matplotlib.pyplot as plt\n",
    "import numpy as np\n",
    "import os\n",
    "import re\n",
    "import nltk\n",
    "nltk.download('stopwords')\n",
    "from ast import literal_eval\n",
    "from nltk.corpus import stopwords\n",
    "from nltk.stem.snowball import SnowballStemmer\n",
    "from sklearn.feature_extraction.text import CountVectorizer\n",
    "from sklearn.feature_extraction.text import TfidfVectorizer"
   ]
  },
  {
   "cell_type": "code",
   "execution_count": 2,
   "metadata": {},
   "outputs": [
    {
     "data": {
      "text/plain": [
       "Index(['imdb_id', 'title', 'plot_synopsis', 'tags', 'split',\n",
       "       'synopsis_source'],\n",
       "      dtype='object')"
      ]
     },
     "execution_count": 2,
     "metadata": {},
     "output_type": "execute_result"
    }
   ],
   "source": [
    "data = pd.read_csv('C:\\mpst_full_data.csv')\n",
    "data.columns"
   ]
  },
  {
   "cell_type": "code",
   "execution_count": 3,
   "metadata": {},
   "outputs": [],
   "source": [
    "vectorizer = CountVectorizer(tokenizer = lambda x: x.split(','))"
   ]
  },
  {
   "cell_type": "code",
   "execution_count": 5,
   "metadata": {},
   "outputs": [
    {
     "data": {
      "text/plain": [
       "<14828x142 sparse matrix of type '<class 'numpy.int64'>'\n",
       "\twith 44206 stored elements in Compressed Sparse Row format>"
      ]
     },
     "execution_count": 5,
     "metadata": {},
     "output_type": "execute_result"
    }
   ],
   "source": [
    "tag_dtm = vectorizer.fit_transform(data['tags'])\n",
    "tag_dtm"
   ]
  },
  {
   "cell_type": "code",
   "execution_count": 6,
   "metadata": {},
   "outputs": [
    {
     "name": "stdout",
     "output_type": "stream",
     "text": [
      "Number of data points:  14828\n",
      "Number of unique tags:  142\n"
     ]
    }
   ],
   "source": [
    "print(\"Number of data points: \", tag_dtm.shape[0])#of entries\n",
    "print(\"Number of unique tags: \", tag_dtm.shape[1]) #of total labels"
   ]
  },
  {
   "cell_type": "code",
   "execution_count": 7,
   "metadata": {},
   "outputs": [
    {
     "name": "stdout",
     "output_type": "stream",
     "text": [
      "Some of the tags we have : [' action', ' adult comedy', ' allegory', ' alternate history']\n"
     ]
    }
   ],
   "source": [
    "#some of the tags are:\n",
    "\n",
    "tags = vectorizer.get_feature_names()\n",
    "print(\"Some of the tags we have :\" , tags[1:5])"
   ]
  },
  {
   "cell_type": "code",
   "execution_count": null,
   "metadata": {},
   "outputs": [],
   "source": [
    "### Number of times a tag appeared"
   ]
  },
  {
   "cell_type": "code",
   "execution_count": 8,
   "metadata": {},
   "outputs": [
    {
     "name": "stdout",
     "output_type": "stream",
     "text": [
      "[ 178  601  110   82   79  160   49  381   26  139   59  113  375   58\n",
      "   11   81   78  627   88  328 1614  145  165  149  245  638  314   71\n",
      " 2571  401  332   47  129  219  113  135  408  729  361   64  122   50\n",
      "  292 4344  300  556    3  180  194  164    8  191 1120  189   70  145\n",
      " 1306 1474  629  659  247  220  326  179   35  686   84  252 2815   14\n",
      "   51   92   63   18   57   23   45   69   15   18   81   15   98  150\n",
      "   49   31    3    9 1232   26  114 1033   52  240   56  167  111  250\n",
      "    5  366  474  109   19   22   53   30   18   78   93  275   54   46\n",
      "    4  165 1438  219  189   34  366   34   41  155   64  777  100   28\n",
      "   59 1162 1432   23  157   62   13   38   11   19  400   36  345 1611\n",
      "   59   28]\n"
     ]
    }
   ],
   "source": [
    "#Lets now store the document term matrix in dictionary\n",
    "\n",
    "freqs = tag_dtm.sum(axis=0).A1\n",
    "print(freqs)"
   ]
  },
  {
   "cell_type": "code",
   "execution_count": 9,
   "metadata": {},
   "outputs": [
    {
     "name": "stdout",
     "output_type": "stream",
     "text": [
      "{' absurd': 178, ' action': 601, ' adult comedy': 110, ' allegory': 82, ' alternate history': 79, ' alternate reality': 160, ' anti war': 49, ' atmospheric': 381, ' autobiographical': 26, ' avant garde': 139, ' blaxploitation': 59, ' bleak': 113, ' boring': 375, ' brainwashing': 58, ' christian film': 11, ' claustrophobic': 81, ' clever': 78, ' comedy': 627, ' comic': 88, ' cruelty': 328, ' cult': 1614, ' cute': 145, ' dark': 165, ' depressing': 149, ' dramatic': 245, ' entertaining': 638, ' fantasy': 314, ' feel-good': 71, ' flashback': 2571, ' good versus evil': 401, ' gothic': 332, ' grindhouse film': 47, ' haunting': 129, ' historical': 219, ' historical fiction': 113, ' home movie': 135, ' horror': 408, ' humor': 729, ' insanity': 361, ' inspiring': 64, ' intrigue': 122, ' magical realism': 50, ' melodrama': 292, ' murder': 4344, ' mystery': 300, ' neo noir': 556, ' non fiction': 3, ' paranormal': 180, ' philosophical': 194, ' plot twist': 164, ' pornographic': 8, ' prank': 191, ' psychedelic': 1120, ' psychological': 189, ' queer': 70, ' realism': 145, ' revenge': 1306, ' romantic': 1474, ' sadist': 629, ' satire': 659, ' sci-fi': 247, ' sentimental': 220, ' storytelling': 326, ' stupid': 179, ' suicidal': 35, ' suspenseful': 686, ' thought-provoking': 84, ' tragedy': 252, ' violence': 2815, ' western': 14, ' whimsical': 51, 'absurd': 92, 'action': 63, 'adult comedy': 18, 'allegory': 57, 'alternate history': 23, 'alternate reality': 45, 'anti war': 69, 'atmospheric': 15, 'autobiographical': 18, 'avant garde': 81, 'blaxploitation': 15, 'bleak': 98, 'boring': 150, 'brainwashing': 49, 'christian film': 31, 'claustrophobic': 3, 'clever': 9, 'comedy': 1232, 'comic': 26, 'cruelty': 114, 'cult': 1033, 'cute': 52, 'dark': 240, 'depressing': 56, 'dramatic': 167, 'entertaining': 111, 'fantasy': 250, 'feel-good': 5, 'flashback': 366, 'good versus evil': 474, 'gothic': 109, 'grindhouse film': 19, 'haunting': 22, 'historical': 53, 'historical fiction': 30, 'home movie': 18, 'horror': 78, 'humor': 93, 'insanity': 275, 'inspiring': 54, 'intrigue': 46, 'magical realism': 4, 'melodrama': 165, 'murder': 1438, 'mystery': 219, 'neo noir': 189, 'non fiction': 34, 'paranormal': 366, 'philosophical': 34, 'plot twist': 41, 'pornographic': 155, 'prank': 64, 'psychedelic': 777, 'psychological': 100, 'queer': 28, 'realism': 59, 'revenge': 1162, 'romantic': 1432, 'sadist': 23, 'satire': 157, 'sci-fi': 62, 'sentimental': 13, 'storytelling': 38, 'stupid': 11, 'suicidal': 19, 'suspenseful': 400, 'thought-provoking': 36, 'tragedy': 345, 'violence': 1611, 'western': 59, 'whimsical': 28}\n"
     ]
    }
   ],
   "source": [
    "count_tags = dict(zip(tags, freqs))\n",
    "print(count_tags)"
   ]
  },
  {
   "cell_type": "code",
   "execution_count": 10,
   "metadata": {},
   "outputs": [
    {
     "data": {
      "text/html": [
       "<div>\n",
       "<style scoped>\n",
       "    .dataframe tbody tr th:only-of-type {\n",
       "        vertical-align: middle;\n",
       "    }\n",
       "\n",
       "    .dataframe tbody tr th {\n",
       "        vertical-align: top;\n",
       "    }\n",
       "\n",
       "    .dataframe thead th {\n",
       "        text-align: right;\n",
       "    }\n",
       "</style>\n",
       "<table border=\"1\" class=\"dataframe\">\n",
       "  <thead>\n",
       "    <tr style=\"text-align: right;\">\n",
       "      <th></th>\n",
       "      <th>Tags</th>\n",
       "      <th>Counts</th>\n",
       "    </tr>\n",
       "  </thead>\n",
       "  <tbody>\n",
       "    <tr>\n",
       "      <th>0</th>\n",
       "      <td>absurd</td>\n",
       "      <td>178</td>\n",
       "    </tr>\n",
       "    <tr>\n",
       "      <th>1</th>\n",
       "      <td>action</td>\n",
       "      <td>601</td>\n",
       "    </tr>\n",
       "    <tr>\n",
       "      <th>2</th>\n",
       "      <td>adult comedy</td>\n",
       "      <td>110</td>\n",
       "    </tr>\n",
       "    <tr>\n",
       "      <th>3</th>\n",
       "      <td>allegory</td>\n",
       "      <td>82</td>\n",
       "    </tr>\n",
       "    <tr>\n",
       "      <th>4</th>\n",
       "      <td>alternate history</td>\n",
       "      <td>79</td>\n",
       "    </tr>\n",
       "  </tbody>\n",
       "</table>\n",
       "</div>"
      ],
      "text/plain": [
       "                 Tags  Counts\n",
       "0              absurd     178\n",
       "1              action     601\n",
       "2        adult comedy     110\n",
       "3            allegory      82\n",
       "4   alternate history      79"
      ]
     },
     "execution_count": 10,
     "metadata": {},
     "output_type": "execute_result"
    }
   ],
   "source": [
    "#saving it to a CSV files. \n",
    "\n",
    "if not os.path.isfile('tag_counts_dict_dtm.csv'):\n",
    "    with open('tag_counts_dict_dtm.csv', 'w') as csv_file:\n",
    "        writer = csv.writer(csv_file)\n",
    "        for key, value in result.items():\n",
    "            writer.writerow([key,value])\n",
    "tag_df = pd.read_csv(\"tag_counts_dict_dtm.csv\", names=['Tags', 'Counts'])\n",
    "tag_df.head()"
   ]
  },
  {
   "cell_type": "code",
   "execution_count": 11,
   "metadata": {},
   "outputs": [
    {
     "name": "stdout",
     "output_type": "stream",
     "text": [
      "                Tags  Counts\n",
      "43            murder    4344\n",
      "68          violence    2815\n",
      "28         flashback    2571\n",
      "20              cult    1614\n",
      "139         violence    1611\n",
      "..               ...     ...\n",
      "50      pornographic       8\n",
      "98         feel-good       5\n",
      "112  magical realism       4\n",
      "46       non fiction       3\n",
      "86    claustrophobic       3\n",
      "\n",
      "[142 rows x 2 columns]\n",
      "[4344 2815 2571 1614 1611 1474 1438 1432 1306 1232 1162 1120 1033  777\n",
      "  729  686  659  638  629  627  601  556  474  408  401  400  381  375\n",
      "  366  366  361  345  332  328  326  314  300  292  275  252  250  247\n",
      "  245  240  220  219  219  194  191  189  189  180  179  178  167  165\n",
      "  165  164  160  157  155  150  149  145  145  139  135  129  122  114\n",
      "  113  113  111  110  109  100   98   93   92   88   84   82   81   81\n",
      "   79   78   78   71   70   69   64   64   63   62   59   59   59   58\n",
      "   57   56   54   53   52   51   50   49   49   47   46   45   41   38\n",
      "   36   35   34   34   31   30   28   28   26   26   23   23   22   19\n",
      "   19   18   18   18   15   15   14   13   11   11    9    8    5    4\n",
      "    3    3]\n"
     ]
    }
   ],
   "source": [
    "tag_df_sorted = tag_df.sort_values(['Counts'], ascending=False)\n",
    "tag_counts = tag_df_sorted['Counts'].values\n",
    "\n",
    "print(tag_df_sorted)\n",
    "print(tag_counts)"
   ]
  },
  {
   "cell_type": "code",
   "execution_count": 12,
   "metadata": {},
   "outputs": [
    {
     "data": {
      "image/png": "[encoded data removed]",
      "text/plain": [
       "<Figure size 432x288 with 1 Axes>"
      ]
     },
     "metadata": {
      "needs_background": "light"
     },
     "output_type": "display_data"
    }
   ],
   "source": [
    "plt.plot(tag_counts, c='b')\n",
    "plt.scatter(x=list(range(0,23)), y=tag_counts[0:23:], c='orange', label='Quantiles with 0.05 intervals')\n",
    "plt.scatter(x=list(range(0,23)), y = tag_counts[0:23:], c='m', label = 'Quantiles with 0.25 intervals')\n",
    "\n",
    "for x,y in zip(list(range(0,23)), tag_counts[0:23]):\n",
    "    plt.annotate(s=\"({},{})\".format(x,y), xy=(x,y), xytext=(x-0.05, y+500))\n",
    "    \n",
    "\n",
    "plt.title('first 100 tags: Distribution of number of times tag appeared question')\n",
    "plt.grid()\n",
    "plt.xlabel(\"Tag Number\")\n",
    "plt.ylabel(\"Number of times tag appeared\")\n",
    "plt.legend()\n",
    "plt.show()"
   ]
  },
  {
   "cell_type": "code",
   "execution_count": 13,
   "metadata": {},
   "outputs": [],
   "source": [
    "###Top 20 tags"
   ]
  },
  {
   "cell_type": "code",
   "execution_count": 14,
   "metadata": {},
   "outputs": [
    {
     "data": {
      "text/plain": [
       "<Figure size 1440x720 with 0 Axes>"
      ]
     },
     "metadata": {},
     "output_type": "display_data"
    },
    {
     "data": {
      "image/png": "[encoded data removed]",
      "text/plain": [
       "<Figure size 432x288 with 1 Axes>"
      ]
     },
     "metadata": {
      "needs_background": "light"
     },
     "output_type": "display_data"
    }
   ],
   "source": [
    "i= np.arange(30)\n",
    "fig = plt.figure(figsize=(20,10))\n",
    "tag_df_sorted.head(30).plot(kind='bar')\n",
    "plt.title('Frequency of top 20 tags')\n",
    "plt.xticks(i,tag_df_sorted['Tags'])\n",
    "plt.xlabel('Tags')\n",
    "plt.ylabel('Counts')\n",
    "plt.show()"
   ]
  },
  {
   "cell_type": "code",
   "execution_count": 15,
   "metadata": {},
   "outputs": [],
   "source": [
    "### Data preprocessing\n",
    "\n",
    "#1. removing HTML tags, punctuation, special characters\n",
    "#2. remove alhpa numeric and covert to lowercase"
   ]
  },
  {
   "cell_type": "code",
   "execution_count": 16,
   "metadata": {},
   "outputs": [],
   "source": [
    "def cleanHTML(sentence):\n",
    "    cleanr=re.compile('<.*?>')\n",
    "    cleantext = re.sub(cleanr, ' ', str(sentence))\n",
    "    return cleantext"
   ]
  },
  {
   "cell_type": "code",
   "execution_count": 17,
   "metadata": {},
   "outputs": [],
   "source": [
    "# remove all punctuation\n",
    "def cleanPunc(sentence):\n",
    "    cleaned = re.sub(r'[?|!|\\'|\"|#]',r'',sentence)\n",
    "    cleaned = re.sub(r'[.|,)|(|\\|/)]',r' ',cleaned)\n",
    "    cleaned = cleaned.strip()\n",
    "    cleaned = cleaned.replace(\"\\n\",\" \")\n",
    "    return cleaned"
   ]
  },
  {
   "cell_type": "code",
   "execution_count": 18,
   "metadata": {},
   "outputs": [],
   "source": [
    "def keepAlpha(sentence):\n",
    "    alpha_sent = \"\"\n",
    "    for word in sentence.split():\n",
    "        alpha_word = re.sub('[^a-z A-Z]+',' ',word)\n",
    "        alpha_sent+= alpha_word\n",
    "        alpha_sent += \" \"\n",
    "    alpha_sent = alpha_sent.strip()\n",
    "    return alpha_sent"
   ]
  },
  {
   "cell_type": "code",
   "execution_count": 19,
   "metadata": {},
   "outputs": [],
   "source": [
    "data['plot_synopsis'] = data['plot_synopsis'].str.lower()\n",
    "data['plot_synopsis'] = data['plot_synopsis'].apply(cleanHTML)\n",
    "data['plot_synopsis'] = data['plot_synopsis'].apply(cleanPunc)\n",
    "data['plot_synopsis'] = data['plot_synopsis'].apply(keepAlpha)"
   ]
  },
  {
   "cell_type": "code",
   "execution_count": 20,
   "metadata": {},
   "outputs": [
    {
     "name": "stdout",
     "output_type": "stream",
     "text": [
      "two thousand years ago nhagruul the foul a sorcerer who reveled in corrupting the innocent and the spread of despair neared the end of his mortal days and was dismayed consumed by hatred for the living nhagruul sold his soul to the demon lords of the abyss so that his malign spirit would survive in an excruciating ritual nhagrulls skin was flayed into pages his bones hammered into a cover and his diseased blood became the ink to pen a book most vile creatures vile and depraved rose from every pit and unclean barrow to partake in the fever of destruction the kingdoms of karkoth were consumed by this plague of evil until an order of holy warriors arose from the ashes the knights of the new sun swore an oath to resurrect hope in the land the purity of their hearts was so great that pelor the god of light gave the knights powerful amulets with which to channel his power transcendent with divine might the knights of the new sun pierced the shadow that had darkened the land for twelve hundred years and cast it asunder but not all were awed by their glory the disciples of nhagruul disassembled the book and bribed three greedy souls to hide the pieces until they could be retrieved the ink was discovered and destroyed but despite years of searching the cover and pages were never found peace ruled the land for centuries and the knights got lost in the light of their own glory as memory of the awful events faded so did the power of servants of pelor they unwittingly abandoned themselves in the incorrect belief that the book of vile darkness could never again be made whole now the remaining pieces have been discovered and an ancient evil is attempting to bring them together and restore the relic and the evil it brought but at the same time a potential new paladin has been named to the knights of the new sun to attempt to renew their power to fight this evil but to do so he may need to go against all that he has held dear risking more that just his own soul in his quest to destroy the evil that surrounds him at every turn\n"
     ]
    }
   ],
   "source": [
    "print(data['plot_synopsis'][1]) #print a particular synopsis"
   ]
  },
  {
   "cell_type": "code",
   "execution_count": 21,
   "metadata": {},
   "outputs": [],
   "source": [
    "#3. remove stopwords present in text using default set of stop-words from NLTK library"
   ]
  },
  {
   "cell_type": "code",
   "execution_count": 23,
   "metadata": {},
   "outputs": [
    {
     "name": "stdout",
     "output_type": "stream",
     "text": [
      " thousand years ago nhagruul  foul  sorcerer  reveled  corrupting  innocent   spread  despair neared  end   mortal days   dismayed consumed  hatred   living nhagruul sold  soul   demon lords   abyss    malign spirit would survive   excruciating ritual nhagrulls skin  flayed  pages  bones hammered   cover   diseased blood became  ink  pen  book  vile creatures vile  depraved rose  every pit  unclean barrow  partake   fever  destruction  kingdoms  karkoth  consumed   plague  evil   order  holy warriors arose   ashes  knights   new sun swore  oath  resurrect hope   land  purity   hearts   great  pelor  god  light gave  knights powerful amulets    channel  power transcendent  divine might  knights   new sun pierced  shadow   darkened  land  twelve hundred years  cast  asunder     awed   glory  disciples  nhagruul disassembled  book  bribed  greedy souls  hide  pieces   could  retrieved  ink  discovered  destroyed  despite years  searching  cover  pages  never found peace ruled  land  centuries   knights got lost   light    glory  memory   awful events faded    power  servants  pelor  unwittingly abandoned    incorrect belief   book  vile darkness could never   made whole   remaining pieces   discovered   ancient evil  attempting  bring  together  restore  relic   evil  brought     time  potential new paladin   named   knights   new sun  attempt  renew  power  fight  evil       need  go      held dear risking      soul   quest  destroy  evil  surrounds   every turn\n"
     ]
    }
   ],
   "source": [
    "stop_words = set(stopwords.words('english'))\n",
    "stop_words.update(['zero', 'one' , 'two' , 'three', 'four' , 'five', 'six', 'seven', 'eight', 'nine', 'ten', 'may', 'also'\n",
    "                  'across' , 'among', 'beside', 'however', 'yet', 'within'])\n",
    "re_stop_words = re.compile(r\"\\b(\" + \"|\".join(stop_words)+ \")\\\\W\", re.I)\n",
    "def removeStopWords(sentence):\n",
    "    global re_stop_words\n",
    "    return re_stop_words.sub(\" \", sentence)\n",
    "\n",
    "data['plot_synopsis'] = data['plot_synopsis'].apply(removeStopWords)\n",
    "print(data['plot_synopsis'][1])"
   ]
  },
  {
   "cell_type": "code",
   "execution_count": 24,
   "metadata": {},
   "outputs": [],
   "source": [
    "#4. Stemming - using SnowBallStemmer"
   ]
  },
  {
   "cell_type": "code",
   "execution_count": 25,
   "metadata": {},
   "outputs": [],
   "source": [
    "stemmer = SnowballStemmer(\"english\")\n",
    "\n",
    "def stemming(sentence):\n",
    "    stemSentence = \"\"\n",
    "    for word in sentence.split():\n",
    "        stem = stemmer.stem(word)\n",
    "        stemSentence+= stem\n",
    "        stemSentence+= \" \"\n",
    "    #print(stemSentence)\n",
    "    stemSentence = stemSentence.strip()\n",
    "    return stemSentence\n"
   ]
  },
  {
   "cell_type": "code",
   "execution_count": 26,
   "metadata": {},
   "outputs": [
    {
     "name": "stdout",
     "output_type": "stream",
     "text": [
      " thousand years ago nhagruul  foul  sorcerer  reveled  corrupting  innocent   spread  despair neared  end   mortal days   dismayed consumed  hatred   living nhagruul sold  soul   demon lords   abyss    malign spirit would survive   excruciating ritual nhagrulls skin  flayed  pages  bones hammered   cover   diseased blood became  ink  pen  book  vile creatures vile  depraved rose  every pit  unclean barrow  partake   fever  destruction  kingdoms  karkoth  consumed   plague  evil   order  holy warriors arose   ashes  knights   new sun swore  oath  resurrect hope   land  purity   hearts   great  pelor  god  light gave  knights powerful amulets    channel  power transcendent  divine might  knights   new sun pierced  shadow   darkened  land  twelve hundred years  cast  asunder     awed   glory  disciples  nhagruul disassembled  book  bribed  greedy souls  hide  pieces   could  retrieved  ink  discovered  destroyed  despite years  searching  cover  pages  never found peace ruled  land  centuries   knights got lost   light    glory  memory   awful events faded    power  servants  pelor  unwittingly abandoned    incorrect belief   book  vile darkness could never   made whole   remaining pieces   discovered   ancient evil  attempting  bring  together  restore  relic   evil  brought     time  potential new paladin   named   knights   new sun  attempt  renew  power  fight  evil       need  go      held dear risking      soul   quest  destroy  evil  surrounds   every turn\n"
     ]
    }
   ],
   "source": [
    "data['preprocessed_data'] = data['plot_synopsis'].apply(stemming)\n",
    "print(data['plot_synopsis'][1])"
   ]
  },
  {
   "cell_type": "code",
   "execution_count": 27,
   "metadata": {},
   "outputs": [],
   "source": [
    "###Splitting the data into test and training data"
   ]
  },
  {
   "cell_type": "code",
   "execution_count": 29,
   "metadata": {},
   "outputs": [],
   "source": [
    "x = data['preprocessed_data']\n",
    "y = data['tags']\n",
    "\n",
    "from sklearn.model_selection import train_test_split"
   ]
  },
  {
   "cell_type": "code",
   "execution_count": 30,
   "metadata": {},
   "outputs": [],
   "source": [
    "#random_state = number of unique genres\n",
    "x_train, x_test, y_train, y_test = train_test_split(x,y,\n",
    "                                                   test_size=0.2, random_state=42)"
   ]
  },
  {
   "cell_type": "code",
   "execution_count": 31,
   "metadata": {},
   "outputs": [
    {
     "name": "stdout",
     "output_type": "stream",
     "text": [
      "2609                             inspiring, comedy, boring\n",
      "4045     comedy, murder, violence, flashback, good vers...\n",
      "6128                         good versus evil, psychedelic\n",
      "12682                     paranormal, satire, storytelling\n",
      "7847                                      violence, murder\n",
      "                               ...                        \n",
      "9932                            mystery, murder, flashback\n",
      "13793                                          non fiction\n",
      "6932                                      romantic, satire\n",
      "36       psychedelic, comedy, murder, storytelling, fla...\n",
      "13038                                               murder\n",
      "Name: tags, Length: 2966, dtype: object\n"
     ]
    }
   ],
   "source": [
    "print(y_test)"
   ]
  },
  {
   "cell_type": "code",
   "execution_count": 32,
   "metadata": {},
   "outputs": [],
   "source": [
    "## analysing tags\n",
    "\n",
    "from sklearn.feature_extraction.text import TfidfVectorizer\n",
    "vectorizer = TfidfVectorizer(min_df = 10, max_features = 20000, smooth_idf = True,  strip_accents='unicode', analyzer='word', ngram_range=(1,3), norm='l2')\n",
    "vectorizer.fit(x_train)\n",
    "x_train_13char = vectorizer.transform(x_train)\n",
    "x_test_13char = vectorizer.transform(x_test)\n"
   ]
  },
  {
   "cell_type": "code",
   "execution_count": 33,
   "metadata": {},
   "outputs": [],
   "source": [
    "#building the model \n",
    "\n",
    "from sklearn.linear_model import LogisticRegression\n",
    "\n",
    "# Binary Relevance\n",
    "from sklearn.multiclass import OneVsRestClassifier\n",
    "\n",
    "# f1_score import \n",
    "from sklearn.metrics import f1_score"
   ]
  },
  {
   "cell_type": "code",
   "execution_count": 34,
   "metadata": {},
   "outputs": [],
   "source": [
    "##We will use sk-learn’s OneVsRestClassifier class to solve this problem as a Binary Relevance or one-vs-all problem:"
   ]
  },
  {
   "cell_type": "code",
   "execution_count": 35,
   "metadata": {},
   "outputs": [],
   "source": [
    "lr = LogisticRegression()\n",
    "clf = OneVsRestClassifier(lr)"
   ]
  },
  {
   "cell_type": "code",
   "execution_count": 36,
   "metadata": {},
   "outputs": [],
   "source": [
    "##Finally, fit the model on the train set:"
   ]
  },
  {
   "cell_type": "code",
   "execution_count": null,
   "metadata": {},
   "outputs": [],
   "source": [
    "# fit model on train data\n",
    "clf.fit(x_train_13char, y_train)"
   ]
  },
  {
   "cell_type": "code",
   "execution_count": null,
   "metadata": {},
   "outputs": [],
   "source": [
    "# make predictions for validation set\n",
    "y_pred = clf.predict(x_test_13char)"
   ]
  },
  {
   "cell_type": "code",
   "execution_count": null,
   "metadata": {},
   "outputs": [],
   "source": [
    "print(data['title'][1])\n",
    "print(data['tags'][1])\n",
    "\n",
    "print(y_pred[1])"
   ]
  },
  {
   "cell_type": "code",
   "execution_count": null,
   "metadata": {},
   "outputs": [],
   "source": [
    "# evaluate performance\n",
    "f1_score(y_test, y_pred, average=\"micro\")"
   ]
  },
  {
   "cell_type": "code",
   "execution_count": null,
   "metadata": {},
   "outputs": [],
   "source": [
    "# f1_score import \n",
    "from sklearn.metrics import precision_score\n",
    "print('The Macro precision score  is: ' , precision_score(y_test, y_pred,average='macro'))\n",
    "print('The Micro precision score  is: ' , precision_score(y_test, y_pred,average='micro'))\n",
    "print('The Weighted precision score  is: ' , precision_score(y_test, y_pred,average='weighted'))"
   ]
  },
  {
   "cell_type": "code",
   "execution_count": null,
   "metadata": {},
   "outputs": [],
   "source": []
  }
 ],
 "metadata": {
  "kernelspec": {
   "display_name": "Python 3",
   "language": "python",
   "name": "python3"
  },
  "language_info": {
   "codemirror_mode": {
    "name": "ipython",
    "version": 3
   },
   "file_extension": ".py",
   "mimetype": "text/x-python",
   "name": "python",
   "nbconvert_exporter": "python",
   "pygments_lexer": "ipython3",
   "version": "3.6.8"
  }
 },
 "nbformat": 4,
 "nbformat_minor": 4
}
